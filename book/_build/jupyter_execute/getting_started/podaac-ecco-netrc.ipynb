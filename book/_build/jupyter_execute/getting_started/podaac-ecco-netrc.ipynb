{
 "cells": [
  {
   "cell_type": "markdown",
   "id": "373cd1db",
   "metadata": {},
   "source": [
    "# PO DAAC Authentication Example"
   ]
  },
  {
   "cell_type": "markdown",
   "id": "be4ca9e8-f2d0-406d-afab-59d2658590e8",
   "metadata": {},
   "source": [
    "**Note this is currently copied from <https://github.com/podaac/ECCO/blob/main/Data_Access/local_bulk_download_and_open_in_py3.ipynb> as a starting point and will be refined** \n",
    "\n",
    "<img src=\"https://podaac.jpl.nasa.gov/sites/default/files/mission_themes/featured_image/%20Estimating-the-Circulation-and-Climate-of-the-Ocean-ECCO-opt2.jpg\" />\n",
    "\n",
    "\n",
    "### Configure your *.netrc* file\n",
    "\n",
    "Good idea to back up your existing netrc file, if you have one. And while youre at it check for these entries because they might exist in there already:"
   ]
  },
  {
   "cell_type": "code",
   "execution_count": 1,
   "id": "f2239e53",
   "metadata": {
    "ExecuteTime": {
     "end_time": "2021-05-27T10:39:46.711996Z",
     "start_time": "2021-05-27T10:39:46.584071Z"
    }
   },
   "outputs": [
    {
     "name": "stdout",
     "output_type": "stream",
     "text": [
      "machine urs.earthdata.nasa.gov login afriesz password\r\n"
     ]
    }
   ],
   "source": [
    "%cp ~/.netrc ~/bak.netrc\n",
    "\n",
    "%cat ~/.netrc | grep '.earthdata.nasa.gov' | cut -f-5 -d\" \""
   ]
  },
  {
   "cell_type": "markdown",
   "id": "acd84420",
   "metadata": {
    "ExecuteTime": {
     "end_time": "2021-05-27T07:10:48.356495Z",
     "start_time": "2021-05-27T07:10:48.351809Z"
    }
   },
   "source": [
    ">Add entries to your netrc for these two *earthdata.nasa.gov* sub domains, at a minimum:\n",
    ">```\n",
    "machine urs.earthdata.nasa.gov login jmcnelis password ***\n",
    "machine opendap.earthdata.nasa.gov login jmcnelis password ***\n",
    ">```\n",
    ">and replace `jmcnelis` and `***` with your Earthdata Login *username* and *password*, respectively..."
   ]
  },
  {
   "cell_type": "markdown",
   "id": "fd967ffb",
   "metadata": {},
   "source": [
    "Replace `jmcnelis` and `***` with your Earthdata *username* and *password*, and then run the cell to _append_ these two lines to your netrc file, if one exists. Otherwise write them to a new one. (all set up by `-a`)"
   ]
  },
  {
   "cell_type": "code",
   "execution_count": 2,
   "id": "f49c840d",
   "metadata": {
    "ExecuteTime": {
     "end_time": "2021-05-27T10:39:47.549656Z",
     "start_time": "2021-05-27T10:39:47.545449Z"
    }
   },
   "outputs": [
    {
     "name": "stdout",
     "output_type": "stream",
     "text": [
      "Appending to /home/jovyan/.netrc\n"
     ]
    }
   ],
   "source": [
    "%%file -a ~/.netrc\n",
    "machine urs.earthdata.nasa.gov login jmcnelis password ***\n",
    "machine opendap.earthdata.nasa.gov login jmcnelis password ***"
   ]
  },
  {
   "cell_type": "markdown",
   "id": "3439a286",
   "metadata": {},
   "source": [
    "Dump the netrc again sans passwords to confirm that it worked:"
   ]
  },
  {
   "cell_type": "code",
   "execution_count": 3,
   "id": "1d188e0c",
   "metadata": {
    "ExecuteTime": {
     "end_time": "2021-05-27T10:39:48.488604Z",
     "start_time": "2021-05-27T10:39:48.365081Z"
    }
   },
   "outputs": [
    {
     "name": "stdout",
     "output_type": "stream",
     "text": [
      "machine urs.earthdata.nasa.gov login afriesz password\r\n",
      "machine urs.earthdata.nasa.gov login jmcnelis password\r\n",
      "machine opendap.earthdata.nasa.gov login jmcnelis password\r\n"
     ]
    }
   ],
   "source": [
    "!cat ~/.netrc | grep '.earthdata.nasa.gov' | cut -f-5 -d\" \""
   ]
  },
  {
   "cell_type": "markdown",
   "id": "a1e64f80",
   "metadata": {},
   "source": [
    "Finally, you need to make sure to limit access to the netrc file because it stores your plain text password. Simple on MacOS and Linux:"
   ]
  },
  {
   "cell_type": "code",
   "execution_count": 4,
   "id": "c5753d8d",
   "metadata": {
    "ExecuteTime": {
     "end_time": "2021-05-27T10:39:48.969549Z",
     "start_time": "2021-05-27T10:39:48.843529Z"
    }
   },
   "outputs": [],
   "source": [
    "!chmod 0600 ~/.netrc"
   ]
  }
 ],
 "metadata": {
  "hide_input": false,
  "kernelspec": {
   "display_name": "Python 3",
   "language": "python",
   "name": "python3"
  },
  "language_info": {
   "codemirror_mode": {
    "name": "ipython",
    "version": 3
   },
   "file_extension": ".py",
   "mimetype": "text/x-python",
   "name": "python",
   "nbconvert_exporter": "python",
   "pygments_lexer": "ipython3",
   "version": "3.7.10"
  },
  "toc": {
   "base_numbering": 1,
   "nav_menu": {},
   "number_sections": false,
   "sideBar": true,
   "skip_h1_title": true,
   "title_cell": "Table of Contents",
   "title_sidebar": "Contents",
   "toc_cell": false,
   "toc_position": {},
   "toc_section_display": true,
   "toc_window_display": false
  }
 },
 "nbformat": 4,
 "nbformat_minor": 5
}